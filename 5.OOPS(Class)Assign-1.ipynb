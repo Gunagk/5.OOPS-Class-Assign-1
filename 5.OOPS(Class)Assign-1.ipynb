{
 "cells": [
  {
   "cell_type": "code",
   "execution_count": 1,
   "id": "52347815",
   "metadata": {},
   "outputs": [],
   "source": [
    "#create a class & function and list out the items in the list"
   ]
  },
  {
   "cell_type": "code",
   "execution_count": 2,
   "id": "03ea976f",
   "metadata": {},
   "outputs": [],
   "source": [
    "class subfields():    \n",
    "    def subfields():\n",
    "        lists =['Machine Learning',\"Neural Network\",\"Vision\",\"Robotics\",\"Speech Processing\",\"Natural Language Processing\"]\n",
    "        for temp in lists:\n",
    "            print(temp)"
   ]
  },
  {
   "cell_type": "code",
   "execution_count": 3,
   "id": "e4573726",
   "metadata": {},
   "outputs": [
    {
     "name": "stdout",
     "output_type": "stream",
     "text": [
      "Sub-fields in AI are:\n",
      "Machine Learning\n",
      "Neural Network\n",
      "Vision\n",
      "Robotics\n",
      "Speech Processing\n",
      "Natural Language Processing\n"
     ]
    }
   ],
   "source": [
    "print(\"Sub-fields in AI are:\")\n",
    "subfields.subfields()"
   ]
  },
  {
   "cell_type": "code",
   "execution_count": 7,
   "id": "10c60c33",
   "metadata": {},
   "outputs": [],
   "source": [
    "#Create a function that checks whether the given number is  Odd or Even"
   ]
  },
  {
   "cell_type": "code",
   "execution_count": 4,
   "id": "c22454e0",
   "metadata": {},
   "outputs": [],
   "source": [
    "class oddEven():\n",
    "    def OddEven():\n",
    "        num=int(input(\"Enter a number:\"))\n",
    "        if(num%2==1):\n",
    "            print(num,\"is Odd number\")\n",
    "        else:\n",
    "            print(num,\"is Even number\")"
   ]
  },
  {
   "cell_type": "code",
   "execution_count": 5,
   "id": "91c3407d",
   "metadata": {},
   "outputs": [
    {
     "name": "stdout",
     "output_type": "stream",
     "text": [
      "Enter a number:52452\n",
      "52452 is Even number\n"
     ]
    }
   ],
   "source": [
    "oddEven.OddEven()"
   ]
  },
  {
   "cell_type": "code",
   "execution_count": 10,
   "id": "9921d261",
   "metadata": {},
   "outputs": [],
   "source": [
    "#Age elegibility for Male & Female"
   ]
  },
  {
   "cell_type": "code",
   "execution_count": 1,
   "id": "de06b20b",
   "metadata": {},
   "outputs": [],
   "source": [
    "class elegibility():\n",
    "    def elegibility():\n",
    "        Gen=input(\"Your Gender:\")\n",
    "        Age=int(input(\"Your Age:\"))\n",
    "        if(Gen==\"Male\"):\n",
    "            if(Age<21):\n",
    "                print(\"Not Elegibile\")\n",
    "            else:\n",
    "                print(\"Elegibile\")\n",
    "        elif(Gen==\"Female\"):\n",
    "            if(Age<18):\n",
    "                print(\"Not Elegibile\")\n",
    "            else:\n",
    "                print(\"Elegibile\")"
   ]
  },
  {
   "cell_type": "code",
   "execution_count": 7,
   "id": "a6166748",
   "metadata": {
    "scrolled": true
   },
   "outputs": [
    {
     "name": "stdout",
     "output_type": "stream",
     "text": [
      "Your Gender:Male\n",
      "Your Age:20\n",
      "Not Elegibile\n"
     ]
    }
   ],
   "source": [
    " elegibility.elegibility()"
   ]
  },
  {
   "cell_type": "code",
   "execution_count": 13,
   "id": "347e92e4",
   "metadata": {},
   "outputs": [],
   "source": [
    "#Percentage for 10th mark"
   ]
  },
  {
   "cell_type": "code",
   "execution_count": 28,
   "id": "bdb7b8af",
   "metadata": {},
   "outputs": [],
   "source": [
    "i=((468/500)*100)"
   ]
  },
  {
   "cell_type": "code",
   "execution_count": 29,
   "id": "7c101ded",
   "metadata": {},
   "outputs": [
    {
     "data": {
      "text/plain": [
       "93.60000000000001"
      ]
     },
     "execution_count": 29,
     "metadata": {},
     "output_type": "execute_result"
    }
   ],
   "source": [
    "i"
   ]
  },
  {
   "cell_type": "code",
   "execution_count": 3,
   "id": "9b1a5ffe",
   "metadata": {},
   "outputs": [],
   "source": [
    "class percentage():\n",
    "    def percentage():\n",
    "        sub1=98\n",
    "        sub2=87\n",
    "        sub3=95\n",
    "        sub4=95\n",
    "        sub5=93\n",
    "        Marksscored=sub1+sub2+sub3+sub4+sub5\n",
    "        Totalmarks=500\n",
    "        percentage=((Marksscored)/(Totalmarks)*100)\n",
    "        sub1=int(input(\"sub1=\"))\n",
    "        sub2=int(input(\"sub2=\"))\n",
    "        sub3=int(input(\"sub3=\"))\n",
    "        sub4=int(input(\"sub4=\"))\n",
    "        sub5=int(input(\"sub5=\"))\n",
    "        print(\"Total:\",Marksscored)    \n",
    "        print(\"percentage:\",percentage) "
   ]
  },
  {
   "cell_type": "code",
   "execution_count": 4,
   "id": "e76c7611",
   "metadata": {},
   "outputs": [
    {
     "name": "stdout",
     "output_type": "stream",
     "text": [
      "sub1=98\n",
      "sub2=87\n",
      "sub3=95\n",
      "sub4=95\n",
      "sub5=93\n",
      "Total: 468\n",
      "percentage: 93.60000000000001\n"
     ]
    }
   ],
   "source": [
    "percentage.percentage()"
   ]
  },
  {
   "cell_type": "code",
   "execution_count": 49,
   "id": "e0fe576f",
   "metadata": {},
   "outputs": [],
   "source": [
    "#print area and perimeter of triangle using class and functions"
   ]
  },
  {
   "cell_type": "code",
   "execution_count": 5,
   "id": "db7096de",
   "metadata": {},
   "outputs": [],
   "source": [
    "class Triangle(): \n",
    "    def Triangle():\n",
    "        Height=(int(input(\"Height:\")))\n",
    "        Breadth=(int(input(\"Breadth:\")))\n",
    "        Areaformula=(Height*Breadth)/2\n",
    "        print(\"Area formula:(Height*Breadth)/2\")\n",
    "        print(\"Area of Triangle\",Areaformula)\n",
    "        Height1=(int(input(\"Height1:\")))\n",
    "        Height2=(int(input(\"Height2:\")))\n",
    "        Breadth=(int(input(\"Breadth:\")))\n",
    "        Perimeterformula=(Height1+Height2+Breadth)\n",
    "        print(\"Perimeter formula:Height1+Height2+Breadth\")\n",
    "        print(\"Perimeter of Triangle\",Perimeterformula)"
   ]
  },
  {
   "cell_type": "code",
   "execution_count": 8,
   "id": "ad0acdbe",
   "metadata": {},
   "outputs": [
    {
     "name": "stdout",
     "output_type": "stream",
     "text": [
      "Height:32\n",
      "Breadth:34\n",
      "Area formula:(Height*Breadth)/2\n",
      "Area of Triangle 544.0\n",
      "Height1:2\n",
      "Height2:4\n",
      "Breadth:4\n",
      "Perimeter formula:Height1+Height2+Breadth\n",
      "Perimeter of Triangle 10\n"
     ]
    }
   ],
   "source": [
    "Triangle.Triangle()"
   ]
  },
  {
   "cell_type": "markdown",
   "id": "e6216a08",
   "metadata": {},
   "source": [
    "### "
   ]
  }
 ],
 "metadata": {
  "kernelspec": {
   "display_name": "Python 3 (ipykernel)",
   "language": "python",
   "name": "python3"
  },
  "language_info": {
   "codemirror_mode": {
    "name": "ipython",
    "version": 3
   },
   "file_extension": ".py",
   "mimetype": "text/x-python",
   "name": "python",
   "nbconvert_exporter": "python",
   "pygments_lexer": "ipython3",
   "version": "3.11.5"
  }
 },
 "nbformat": 4,
 "nbformat_minor": 5
}
